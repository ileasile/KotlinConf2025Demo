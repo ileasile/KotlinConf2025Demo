{
 "cells": [
  {
   "cell_type": "code",
   "metadata": {
    "collapsed": true
   },
   "source": [
    "//%use intellij-sdk\n",
    "USE {\n",
    "    repositories(\"https://packages.jetbrains.team/maven/p/kds/kotlin-ds-maven\")\n",
    "    dependencies(\"org.jetbrains.kotlinx:kotlin-jupyter-intellij-platform:0.0.2-7.dev1\")\n",
    "}\n"
   ],
   "outputs": [],
   "execution_count": null
  },
  {
   "metadata": {},
   "cell_type": "markdown",
   "source": [
    "# Notebooks & IntelliJ Platform SDK Demo\n",
    "\n",
    "\n",
    "<img alt=\"nb-logo.svg\" src=\"nb-logo.svg\" width=\"150\"/>  <img alt=\"idea.png\" src=\"idea.png\" width=\"150\"/>\n",
    "\n",
    "\n",
    "🎯 Welcome to the IntelliJ Platform SDK demonstration! This notebook shows how to interact with IntelliJ IDEA's core functionality using Kotlin, areas covered:\n",
    "\n",
    "* file system manipulation\n",
    "* UI elements creation\n",
    "* document editing"
   ]
  },
  {
   "metadata": {
    "ExecuteTime": {
     "end_time": "2025-05-22T13:28:33.336528Z",
     "start_time": "2025-05-22T13:28:33.268399Z"
    }
   },
   "cell_type": "code",
   "source": [
    "val projectRoot = \"/Users/Nikolay.Egorov/Desktop/Work/KotlinConf2025Demo\"\n",
    "val sampleName = \"$projectRoot/data/ex.kts\""
   ],
   "outputs": [],
   "execution_count": 27
  },
  {
   "metadata": {
    "ExecuteTime": {
     "end_time": "2025-05-22T13:47:50.690790Z",
     "start_time": "2025-05-22T13:47:50.525170Z"
    }
   },
   "cell_type": "code",
   "source": [
    "val txt = getDocumentByPath(\"$projectRoot/data/ex.kts\")\n",
    "\n",
    "txt"
   ],
   "outputs": [
    {
     "data": {
      "text/plain": [
       "DocumentImpl[ex.kts]"
      ]
     },
     "execution_count": 32,
     "metadata": {},
     "output_type": "execute_result"
    }
   ],
   "execution_count": 32
  },
  {
   "metadata": {},
   "cell_type": "code",
   "source": [
    "import com.intellij.openapi.editor.Document\n",
    "import com.intellij.openapi.fileEditor.FileDocumentManager\n",
    "import com.intellij.openapi.vfs.LocalFileSystem\n",
    "import com.intellij.openapi.vfs.VfsUtilCore\n",
    "import com.intellij.openapi.vfs.VirtualFile\n",
    "\n",
    "// Let's create a helper function to work with virtual files\n",
    "fun createOrGetVirtualFile(path: kotlin.String) : VirtualFile? =\n",
    "    LocalFileSystem.getInstance().refreshAndFindFileByPath(path)\n",
    "\n",
    "fun getDocumentByPath(path: kotlin.String) : Document? {\n",
    "    val file = createOrGetVirtualFile(path) ?: return null\n",
    "    return FileDocumentManager.getInstance().getDocument(file)\n",
    "}\n",
    "\n",
    "fun VirtualFile.readText() = VfsUtilCore.loadText(this)"
   ],
   "outputs": [],
   "execution_count": null
  },
  {
   "metadata": {},
   "cell_type": "code",
   "source": [
    "import com.intellij.openapi.command.WriteCommandAction\n",
    "import com.intellij.openapi.editor.Document\n",
    "import com.intellij.openapi.fileEditor.FileDocumentManager\n",
    "\n",
    "fun Document.setContent(textToAdd: kotlin.String, rewrite: Boolean = false): Boolean {\n",
    "    val existingText = text\n",
    "    val updatedText = if (!rewrite && existingText.isNotEmpty()) {\n",
    "        \"$existingText\\n$textToAdd\"\n",
    "    } else {\n",
    "        textToAdd\n",
    "    }\n",
    "\n",
    "    WriteCommandAction.runWriteCommandAction(null) {\n",
    "        this.setText(updatedText)\n",
    "        FileDocumentManager.getInstance().saveDocument(this)\n",
    "    }\n",
    "\n",
    "    return true\n",
    "}"
   ],
   "outputs": [],
   "execution_count": null
  },
  {
   "metadata": {},
   "cell_type": "code",
   "source": [
    "txt?.appendToDocument(\"\"\"\n",
    "    println(\"Hello KotlinConf 2025!\")\n",
    "\n",
    "    // TODO: Add more exciting code here\n",
    "\"\"\".trimIndent())"
   ],
   "outputs": [],
   "execution_count": null
  },
  {
   "metadata": {},
   "cell_type": "markdown",
   "source": [
    "\n",
    "\n",
    "Let's create another cell to test this function:\n",
    "\n"
   ]
  },
  {
   "metadata": {},
   "cell_type": "code",
   "source": "",
   "outputs": [],
   "execution_count": null
  },
  {
   "metadata": {},
   "cell_type": "code",
   "source": [
    "// Let's demonstrate how to analyze file structure\n",
    "fun analyzeFile(filePath: String) {\n",
    "    val vFile = createOrGetVirtualFile(filePath)\n",
    "    val doc = FileDocumentManager.getInstance().getDocument(vFile)\n",
    "\n",
    "    println(\"File analysis:\")\n",
    "    println(\"- Name: ${vFile.name}\")\n",
    "    println(\"- Extension: ${vFile.extension}\")\n",
    "    println(\"- Size: ${vFile.length} bytes\")\n",
    "    println(\"- Lines: ${doc?.lineCount ?: 0}\")\n",
    "}\n",
    "\n",
    "analyzeFile(\"data/demo.kt\")"
   ],
   "outputs": [],
   "execution_count": null
  },
  {
   "metadata": {},
   "cell_type": "code",
   "source": "",
   "outputs": [],
   "execution_count": null
  },
  {
   "metadata": {},
   "cell_type": "markdown",
   "source": [
    "# Dialog window creation \n",
    "\n"
   ]
  },
  {
   "metadata": {
    "ExecuteTime": {
     "end_time": "2025-05-22T13:16:39.224700Z",
     "start_time": "2025-05-22T13:16:39.128678Z"
    }
   },
   "cell_type": "code",
   "source": [
    "import com.intellij.openapi.ui.DialogWrapper\n",
    "import com.intellij.openapi.ui.ValidationInfo\n",
    "import com.intellij.ui.components.JBTextField\n",
    "import com.intellij.ui.dsl.builder.panel\n",
    "import com.intellij.openapi.fileChooser.FileChooserDescriptor\n",
    "import com.intellij.openapi.fileChooser.FileChooserDialog\n",
    "import com.intellij.openapi.fileChooser.FileChooserFactory\n",
    "import com.intellij.openapi.ui.setEmptyState\n",
    "import com.intellij.ui.util.preferredHeight\n",
    "import javax.swing.JComponent\n",
    "import java.io.File\n",
    "\n",
    "class CreateFileDialogWithChooser : DialogWrapper(true) {\n",
    "    private val fileNameField = JBTextField()\n",
    "    private val locationField = JBTextField()\n",
    "\n",
    "    init {\n",
    "        title = \"Create New File\"\n",
    "        fileNameField.setEmptyState(\"Enter file name\")\n",
    "        fileNameField.emptyText\n",
    "        fileNameField.setSize(fileNameField.emptyText.preferredSize)\n",
    "        locationField.text = projectRoot // Using existing projectRoot variable\n",
    "        init()\n",
    "    }\n",
    "\n",
    "    private fun showFileChooser() {\n",
    "        val descriptor = FileChooserDescriptor(false, true, false, false, false, false)\n",
    "            .withTitle(\"Select Directory\")\n",
    "            .withDescription(\"Choose location for new file\")\n",
    "\n",
    "        val chooser = FileChooserFactory.getInstance()\n",
    "            .createFileChooser(descriptor, null, null)\n",
    "\n",
    "        val files = chooser.choose(null)\n",
    "        if (files.isNotEmpty()) {\n",
    "            locationField.text = files[0].path\n",
    "        }\n",
    "    }\n",
    "\n",
    "    override fun createCenterPanel(): JComponent = panel {\n",
    "        row(\"File Name:\") { cell(fileNameField).resizableColumn() }\n",
    "        row(\"Location:\") {\n",
    "            cell(locationField)\n",
    "            button(\"Browse\") { showFileChooser() }\n",
    "        }\n",
    "    }\n",
    "\n",
    "    override fun doValidate(): ValidationInfo? {\n",
    "        if (fileNameField.text.isBlank()) {\n",
    "            return ValidationInfo(\"File name cannot be empty\", fileNameField)\n",
    "        }\n",
    "        if (locationField.text.isBlank()) {\n",
    "            return ValidationInfo(\"Location cannot be empty\", locationField)\n",
    "        }\n",
    "        return null\n",
    "    }\n",
    "\n",
    "    fun getFileName() = fileNameField.text\n",
    "    fun getPath() = locationField.text\n",
    "}\n"
   ],
   "outputs": [],
   "execution_count": 23
  },
  {
   "metadata": {
    "ExecuteTime": {
     "end_time": "2025-05-22T13:16:41.746128Z",
     "start_time": "2025-05-22T13:16:41.718639Z"
    }
   },
   "cell_type": "code",
   "source": [
    "import com.intellij.openapi.application.invokeLater\n",
    "\n",
    "invokeLater { CreateFileDialogWithChooser().showAndGet() }"
   ],
   "outputs": [],
   "execution_count": 24
  },
  {
   "metadata": {
    "ExecuteTime": {
     "end_time": "2025-05-22T13:12:17.879122Z",
     "start_time": "2025-05-22T13:12:17.828242Z"
    }
   },
   "cell_type": "code",
   "source": [
    "import com.intellij.openapi.command.WriteCommandAction\n",
    "\n",
    "fun showCreateFileDialogWithChooser() {\n",
    "    val dialog = CreateFileDialogWithChooser()\n",
    "    if (dialog.showAndGet()) {\n",
    "        val fileName = dialog.getFileName()\n",
    "        val location = dialog.getPath()\n",
    "        val fullPath = \"$location/${fileName}\"\n",
    "\n",
    "        val file = createOrGetVirtualFile(fullPath)\n",
    "        if (file != null) {\n",
    "            println(\"File already exists\")\n",
    "            return\n",
    "        }\n",
    "\n",
    "        WriteCommandAction.runWriteCommandAction(null) {\n",
    "            val newFile = LocalFileSystem.getInstance().refreshAndFindFileByPath(location)\n",
    "                ?.createChildData(null, fileName)\n",
    "            if (newFile != null) {\n",
    "                println(\"File created successfully at: ${newFile.path}\")\n",
    "            } else {\n",
    "                println(\"Failed to create file\")\n",
    "            }\n",
    "        }\n",
    "    }\n",
    "}\n",
    "\n",
    "// Show the dialog with file chooser\n",
    "invokeLater {\n",
    "    showCreateFileDialogWithChooser()\n",
    "}"
   ],
   "outputs": [],
   "execution_count": 15
  },
  {
   "metadata": {},
   "cell_type": "markdown",
   "source": [
    "This  version includes:\n",
    "1. FileChooserDescriptor for directory selection\n",
    "2. \"Browse\" button that opens native file chooser\n",
    "3. Uses VirtualFile API for file creation\n",
    "4. Pre-fills location with projectRoot\n",
    "5. Proper file existence check before creation"
   ]
  },
  {
   "metadata": {},
   "cell_type": "markdown",
   "source": [
    "# Adding Syntax Highlighting to Editor\n",
    "To enable syntax highlighting in the editor, we need to modify the TextEditorDialog to use EditorEx and configure the editor with proper file type and highlighting settings."
   ]
  },
  {
   "metadata": {
    "ExecuteTime": {
     "end_time": "2025-05-22T13:48:42.630586Z",
     "start_time": "2025-05-22T13:48:42.379700Z"
    }
   },
   "cell_type": "code",
   "source": [
    "import com.intellij.openapi.ui.DialogWrapper\n",
    "import com.intellij.ui.components.JBScrollPane\n",
    "import com.intellij.ui.EditorTextField\n",
    "import com.intellij.openapi.editor.ex.EditorEx\n",
    "import com.intellij.openapi.fileTypes.FileTypeManager\n",
    "import java.awt.Dimension\n",
    "import javax.swing.JComponent\n",
    "import com.intellij.openapi.command.WriteCommandAction\n",
    "import com.intellij.openapi.fileEditor.FileDocumentManager\n",
    "\n",
    "class TextEditorDialog(private val file: VirtualFile) : DialogWrapper(true) {\n",
    "    private val textArea = EditorTextField(file.readText(), null, file.fileType)\n",
    "\n",
    "    init {\n",
    "        title = \"Edit File Content\"\n",
    "        init()\n",
    "    }\n",
    "\n",
    "    override fun createCenterPanel(): JComponent {\n",
    "        textArea.setOneLineMode(false)\n",
    "        textArea.setPreferredSize(Dimension(500, 300))\n",
    "\n",
    "        // Configure editor to enable syntax highlighting\n",
    "        (textArea.editor as? EditorEx)?.let { editor ->\n",
    "            editor.setHorizontalScrollbarVisible(true)\n",
    "            editor.setVerticalScrollbarVisible(true)\n",
    "            editor.settings.apply {\n",
    "                isLineNumbersShown = true\n",
    "                isAutoCodeFoldingEnabled = true\n",
    "            }\n",
    "        }\n",
    "\n",
    "        return JBScrollPane(textArea)\n",
    "    }\n",
    "\n",
    "    fun getContent() = textArea.text\n",
    "}\n",
    "\n",
    "invokeLater {\n",
    "    val f = createOrGetVirtualFile(sampleName)!!\n",
    "\n",
    "    val dialog = TextEditorDialog(createOrGetVirtualFile(sampleName)!!)\n",
    "    if (dialog.showAndGet()) {\n",
    "        WriteCommandAction.runWriteCommandAction(null) {\n",
    "            val document = FileDocumentManager.getInstance().getDocument(f)\n",
    "            document?.setText(dialog.getContent())\n",
    "            FileDocumentManager.getInstance().saveDocument(document!!)\n",
    "        }\n",
    "    }\n",
    "}\n"
   ],
   "outputs": [],
   "execution_count": 33
  },
  {
   "metadata": {},
   "cell_type": "markdown",
   "source": [
    "This enhanced version:\n",
    "1. Creates editor with proper file type detection for syntax highlighting\n",
    "2. Enables line numbers\n",
    "3. Adds proper scrollbars\n",
    "4. Configures code folding\n"
   ]
  },
  {
   "metadata": {
    "ExecuteTime": {
     "end_time": "2025-05-22T13:31:04.345616Z",
     "start_time": "2025-05-22T13:31:04.304956Z"
    }
   },
   "cell_type": "code",
   "source": [
    "invokeLater {\n",
    "    TextEditorDialog(createOrGetVirtualFile(sampleName)!!).showAndGet()\n",
    "}"
   ],
   "outputs": [],
   "execution_count": 31
  }
 ],
 "metadata": {
  "kernelspec": {
   "display_name": "Kotlin",
   "language": "kotlin",
   "name": "kotlin"
  },
  "language_info": {
   "name": "kotlin",
   "version": "1.9.23",
   "mimetype": "text/x-kotlin",
   "file_extension": ".kt",
   "pygments_lexer": "kotlin",
   "codemirror_mode": "text/x-kotlin",
   "nbconvert_exporter": ""
  },
  "ktnbPluginMetadata": {
   "sessionRunMode": "IDE_PROCESS",
   "projectDependencies": [
    "src"
   ],
   "projectLibraries": false
  }
 },
 "nbformat": 4,
 "nbformat_minor": 0
}
